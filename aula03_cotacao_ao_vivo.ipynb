{
 "cells": [
  {
   "cell_type": "code",
   "execution_count": null,
   "id": "9f386077-a62a-4d70-8758-86be9b2f6649",
   "metadata": {},
   "outputs": [],
   "source": [
    "#Passo 1 -  Baixar e configurar o MetaTrader pra sua conta em uma corretora"
   ]
  },
  {
   "cell_type": "code",
   "execution_count": null,
   "id": "ba229f98-7fb5-4744-95fb-62d00157d30c",
   "metadata": {},
   "outputs": [],
   "source": [
    "#Passo 2 - Importar bibliotecas"
   ]
  },
  {
   "cell_type": "code",
   "execution_count": null,
   "id": "708d8bfd-f9bf-47ee-8071-fe045e63115e",
   "metadata": {},
   "outputs": [],
   "source": [
    "import MetaTrade5 as mt5\n",
    "import time"
   ]
  },
  {
   "cell_type": "code",
   "execution_count": null,
   "id": "4871b0fc-bdae-4c25-be94-831e943828eb",
   "metadata": {},
   "outputs": [],
   "source": [
    "#Passo 3 - Inicializar o MetaTrade"
   ]
  },
  {
   "cell_type": "code",
   "execution_count": null,
   "id": "be5a7f18-f48a-4cfc-95fb-3bf2beadf43a",
   "metadata": {},
   "outputs": [],
   "source": [
    "mt5.initialize()"
   ]
  },
  {
   "cell_type": "code",
   "execution_count": null,
   "id": "bad961b1-57d3-41a8-8aa0-521bdf529cbe",
   "metadata": {},
   "outputs": [],
   "source": [
    "#Passo 4 -  Pegar e selecionar os símbolos disponíveis"
   ]
  },
  {
   "cell_type": "code",
   "execution_count": null,
   "id": "67b7db03-1aa7-4fc1-984d-43167f65486e",
   "metadata": {},
   "outputs": [],
   "source": [
    "simbolos = mt5.symbols_get()\n",
    "\n",
    "simbolos"
   ]
  },
  {
   "cell_type": "code",
   "execution_count": null,
   "id": "0c58e73a-b46c-4b6a-af89-fc8ac3d75e82",
   "metadata": {},
   "outputs": [],
   "source": [
    "len(simbolos)\n",
    "\n",
    "simbolos[0].name"
   ]
  },
  {
   "cell_type": "code",
   "execution_count": null,
   "id": "1ec84079-f297-4b40-8d0d-6494c059e53f",
   "metadata": {},
   "outputs": [],
   "source": [
    "mt5.symbol_select(\"EGIE3\")"
   ]
  },
  {
   "cell_type": "code",
   "execution_count": null,
   "id": "d98df6ac-f24b-4c95-86e8-ebcdf577666c",
   "metadata": {},
   "outputs": [],
   "source": [
    "#Passo 5 - Pegar as cotações ao vivo"
   ]
  },
  {
   "cell_type": "code",
   "execution_count": null,
   "id": "8cf3275f-d445-4ed5-864b-d9126f6848c3",
   "metadata": {},
   "outputs": [],
   "source": [
    "preco_em_tempo_real = mt5.symbol_info(\"PETR4\").last\n",
    "retorno_em_tempo_real = mt5.symbol_info(\"PETR4\").price_change\n",
    "\n",
    "preco_em_tempo_real"
   ]
  },
  {
   "cell_type": "code",
   "execution_count": null,
   "id": "41f3bfd5-45c4-43d3-a0ed-47ae773b3000",
   "metadata": {},
   "outputs": [],
   "source": [
    "tempo = time.time() + 10\n",
    "\n",
    "while time.time() < tempo:\n",
    "    \n",
    "    tick = mt5.symbol_info_tick(\"PETR4\")\n",
    "    print(f\"O fechamento é {tick.last}\")\n",
    "    print(f\"O valor de compra é {tick.ask}\")\n",
    "    print(f\"O valor de venda é {tick.bid}\")\n",
    "    print(f\"=================================\")\n",
    "    time.sleep(1)"
   ]
  }
 ],
 "metadata": {
  "kernelspec": {
   "display_name": "Python 3 (ipykernel)",
   "language": "python",
   "name": "python3"
  },
  "language_info": {
   "codemirror_mode": {
    "name": "ipython",
    "version": 3
   },
   "file_extension": ".py",
   "mimetype": "text/x-python",
   "name": "python",
   "nbconvert_exporter": "python",
   "pygments_lexer": "ipython3",
   "version": "3.12.4"
  }
 },
 "nbformat": 4,
 "nbformat_minor": 5
}
